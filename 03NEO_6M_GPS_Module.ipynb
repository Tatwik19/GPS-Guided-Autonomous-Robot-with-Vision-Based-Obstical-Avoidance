{
 "cells": [
  {
   "cell_type": "markdown",
   "id": "6e05e03c",
   "metadata": {},
   "source": [
    "# This is the code to test Neo 6M GPS Module"
   ]
  },
  {
   "cell_type": "markdown",
   "id": "20378e49",
   "metadata": {},
   "source": [
    "Check if the device identifies the GPS module  \n",
    "It will be named ACM 0 (if connected by UBS). If not unplug it and replug to identify which port is it assigned to."
   ]
  },
  {
   "cell_type": "code",
   "execution_count": null,
   "id": "dc4829d7",
   "metadata": {},
   "outputs": [],
   "source": [
    "!ls /dev/tty*"
   ]
  },
  {
   "cell_type": "markdown",
   "id": "60fcee28",
   "metadata": {},
   "source": [
    "### Now testing\n",
    "(Potential errors would be: \"ValueError: could not convert string to float:\"  \n",
    "Then wait untill GPS locks to a satilite)"
   ]
  },
  {
   "cell_type": "code",
   "execution_count": null,
   "id": "7a297679",
   "metadata": {},
   "outputs": [],
   "source": [
    "import serial\n",
    "import time\n",
    "import string\n",
    "# GPS (UART)\n",
    "\n",
    "ser = serial.Serial(\"/dev/ttyACM0\") # Address of GPS Device connected via USB\n",
    "gpgga_info = \"$GPGGA,\" # Extract GPGGA line from GPS\n",
    "GPGGA_buffer = 0\n",
    "NMEA_buff = 0\n",
    "\n",
    "\n",
    "def convert_to_degrees(raw_value):\n",
    "    decimal_value = raw_value/100.00\n",
    "    degrees = int(decimal_value)\n",
    "    mm_mmmm = (decimal_value - int(decimal_value))/0.6\n",
    "    position = degrees + mm_mmmm\n",
    "#     position = \"%.4f\" %(position)\n",
    "    return position\n",
    "\n",
    "\n",
    "try:\n",
    "    while True:\n",
    "       \n",
    "        received_data = (str)(ser.readline()) #read NMEA string received\n",
    "        GPGGA_data_available = received_data.find(gpgga_info)   #check for NMEA GPGGA string\n",
    "        \n",
    "        if (GPGGA_data_available>0): # when GPS is active\n",
    "            GPGGA_buffer = received_data.split(\"$GPGGA,\",1)[1]  #store data coming after “$GPGGA,” string\n",
    "            NMEA_buff = (GPGGA_buffer.split(','))\n",
    "            nmea_time = []\n",
    "            nmea_latitude = []\n",
    "            nmea_longitude = []\n",
    "            nmea_time = float(NMEA_buff[0]) + 53000                    #extract time from GPGGA string in Indian Standard Time\n",
    "            nmea_latitude = NMEA_buff[1]                #extract latitude from GPGGA string\n",
    "            nmea_latitude_dir = NMEA_buff[2]                #Lat direction\n",
    "            nmea_longitude = NMEA_buff[3]               #extract longitude from GPGGA string\n",
    "            nmea_long_dir = NMEA_buff[4]                #Long direction  \n",
    "\n",
    "            GPS_Fix = NMEA_buff[5]\n",
    "            satellite_count = NMEA_buff[6]\n",
    "            Alt = NMEA_buff[8]\n",
    "\n",
    "            lat = float(nmea_latitude)\n",
    "            lat = convert_to_degrees(lat)\n",
    "            longi = float(nmea_longitude)\n",
    "            longi = convert_to_degrees(longi)\n",
    "            \n",
    "            print(\"Time:\",nmea_time)\n",
    "            print(\"Latitude:\", lat)\n",
    "            print(\"Longitude:\",longi)\n",
    "            print(\"Satilite Count:\",satellite_count,\"Altitude (m):\",Alt)\n",
    "            time.sleep(1)\n",
    "            \n",
    "except KeyboardInterrupt:\n",
    "    sys.exit(0)"
   ]
  }
 ],
 "metadata": {
  "kernelspec": {
   "display_name": "Python 3 (ipykernel)",
   "language": "python",
   "name": "python3"
  },
  "language_info": {
   "codemirror_mode": {
    "name": "ipython",
    "version": 3
   },
   "file_extension": ".py",
   "mimetype": "text/x-python",
   "name": "python",
   "nbconvert_exporter": "python",
   "pygments_lexer": "ipython3",
   "version": "3.9.7"
  }
 },
 "nbformat": 4,
 "nbformat_minor": 5
}

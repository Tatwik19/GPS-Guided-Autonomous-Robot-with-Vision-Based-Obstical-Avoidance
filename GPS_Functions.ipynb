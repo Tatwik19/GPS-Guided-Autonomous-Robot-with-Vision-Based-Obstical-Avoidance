{
 "cells": [
  {
   "cell_type": "markdown",
   "id": "3d36df92",
   "metadata": {},
   "source": [
    "# Overview of GPS guided Robot code"
   ]
  },
  {
   "cell_type": "code",
   "execution_count": null,
   "id": "73832977",
   "metadata": {},
   "outputs": [],
   "source": [
    "def convert_to_degrees(raw_value):\n",
    "    decimal_value = raw_value/100.00\n",
    "    degrees = int(decimal_value)\n",
    "    mm_mmmm = (decimal_value - int(decimal_value))/0.6\n",
    "    position = degrees + mm_mmmm \n",
    "#     position = \"%.4f\" %(position)\n",
    "    return position"
   ]
  },
  {
   "cell_type": "markdown",
   "id": "c52e32fa",
   "metadata": {},
   "source": [
    "Get current Headding/Facing direction from Magnetometer (0 to 360 deg)"
   ]
  },
  {
   "cell_type": "code",
   "execution_count": null,
   "id": "dc9f9479",
   "metadata": {},
   "outputs": [],
   "source": [
    "# Magneto Meter\n",
    "\n",
    "def currentHeading():\n",
    "    \n",
    "    imu.readSensor()\n",
    "    imu.computeOrientation()\n",
    "    \n",
    "        \n",
    "    magX = imu.MagVals[0] \n",
    "    magY = imu.MagVals[1]\n",
    "    M_PI = math.pi\n",
    "    offSet = 30 # Correction Angle\n",
    "    \n",
    "    if (magY > 0):\n",
    "        heading = 90 - math.atan(magX/magY)*(180/M_PI)\n",
    "        \n",
    "    elif (magY < 0):\n",
    "        heading = 270 - math.atan(magX/magY)*(180/M_PI)\n",
    "        \n",
    "    elif (magY == 0 and magX < 0):\n",
    "        heading = 180\n",
    "        \n",
    "    elif (magY == 0 and magX > 0): \n",
    "        heading = 0\n",
    "        \n",
    "    heading = -heading + offSet\n",
    "    if heading > 360:\n",
    "        heading = heading - 360;\n",
    "    elif heading < 0:\n",
    "        heading = heading + 360;\n",
    "        \n",
    "    return heading"
   ]
  },
  {
   "cell_type": "markdown",
   "id": "77af6559",
   "metadata": {},
   "source": [
    "Get Waypoint when target heading, distance and current location is given"
   ]
  },
  {
   "cell_type": "code",
   "execution_count": null,
   "id": "40cb647a",
   "metadata": {},
   "outputs": [],
   "source": [
    "# Navigation\n",
    "def getWayPoint(currHead, targHead, currLat, currLon, dist): # Get Waypoint when target heading, distance and current location is given\n",
    "    R = 6378.137 * 1000  # Radius of earth in M \n",
    "    \n",
    "    Ad = dist/R * 180/math.pi # Angular distance\n",
    "    \n",
    "    targHead = currHead + targHead # previous targHead is w.r.t North (Bearing Angle)\n",
    "    \n",
    "    targLat = np.rad2deg(math.asin(math.sin(np.deg2rad(currLat)) * math.cos(np.deg2rad(Ad)) + math.cos(np.deg2rad(currLat)) * math.sin(np.deg2rad(Ad)) * math.cos(np.deg2rad(targHead)))) \n",
    "    targLong = currLon + np.rad2deg(math.atan2(math.sin(np.deg2rad(targHead)) * math.sin(np.deg2rad(Ad)) * math.cos(np.deg2rad(currLat)), math.cos(np.deg2rad(Ad)) - math.sin(np.deg2rad(currLat)) * math.sin(np.deg2rad(targLat))))\n",
    "    \n",
    "    return [targLat,targLong]"
   ]
  },
  {
   "cell_type": "markdown",
   "id": "9506fd9b",
   "metadata": {},
   "source": [
    "Steering angle towards target locaation wrt target location"
   ]
  },
  {
   "cell_type": "code",
   "execution_count": null,
   "id": "6daa33c0",
   "metadata": {},
   "outputs": [],
   "source": [
    "def getSteering(currHead, currLat, currLon, targLat, targLon):\n",
    "    # currHead must be from -360 to 360;\n",
    "    x = math.cos(np.deg2rad(targLat)) * math.sin(np.deg2rad(currLon-targLon));\n",
    "    y = math.cos(np.deg2rad(currLat)) * math.sin(np.deg2rad(targLat)) - math.sin(np.deg2rad(currLat))* math.cos(np.deg2rad(targLat)) * math.cos(np.deg2rad(currLon-targLon));\n",
    "    mag = currHead;\n",
    "    steering = -np.rad2deg(math.atan2(x,y)) - mag;\n",
    "    if steering >= 180:\n",
    "        steering = steering - 360;\n",
    "    elif steering <= -180:\n",
    "        steering = steering + 360;\n",
    "    return steering"
   ]
  },
  {
   "cell_type": "markdown",
   "id": "d523c60d",
   "metadata": {},
   "source": [
    "Distance between current location and final target"
   ]
  },
  {
   "cell_type": "code",
   "execution_count": null,
   "id": "2a942f7f",
   "metadata": {},
   "outputs": [],
   "source": [
    "def getDistance(curLat, curLon, lat2, lon2)\n",
    "    R = 6378.137; # Radius of earth in KM\n",
    "    dLat = lat2 * math.pi / 180 - curLat * math.pi / 180\n",
    "    dLon = lon2 * math.pi / 180 - curLon * math.pi / 180\n",
    "    a = math.sin(dLat/2) * math.sin(dLat/2) + math.cos(curLat * math.pi / 180) * math.cos(lat2 * math.pi / 180) * math.sin(dLon/2) * math.sin(dLon/2)\n",
    "    c = 2 * math.atan2(math.sqrt(a), math.sqrt(1-a))\n",
    "    d = R * c;\n",
    "    return d * 1000; # meters"
   ]
  },
  {
   "cell_type": "markdown",
   "id": "d8ff3769",
   "metadata": {},
   "source": [
    "Function for Differential Driving for the robot to move and steer towards the target dynamically"
   ]
  },
  {
   "cell_type": "code",
   "execution_count": null,
   "id": "3270984d",
   "metadata": {},
   "outputs": [],
   "source": [
    "def mapf(x, in_min, in_max, out_min, out_max):\n",
    "    return (x - in_min) * (out_max - out_min) / (in_max - in_min) + out_min\n",
    "\n",
    "def differentialDrive(steeringAngle, driveSpeed):\n",
    "    # steeringAngle must be from -180 to 180.\n",
    "\n",
    "    leftDriveSpeed = driveSpeed;\n",
    "    rightDriveSpeed = driveSpeed;\n",
    "    if (steeringAngle <= 0):\n",
    "        L = leftDriveSpeed - mapf(abs(steeringAngle), 0,180, 0,driveSpeed) # slow left down\n",
    "        R = rightDriveSpeed\n",
    "        \n",
    "    if (steeringAngle < -90) and (steeringAngle >= -180):\n",
    "        L = leftDriveSpeed - 2*mapf(abs(steeringAngle), 0,180, 0,driveSpeed) # slow left down\n",
    "        R = rightDriveSpeed\n",
    "      \n",
    "    \n",
    "    if (steeringAngle > 0) and steeringAngle <= 90:\n",
    "        L = leftDriveSpeed\n",
    "        R = rightDriveSpeed - mapf(abs(steeringAngle), 0,180, 0,driveSpeed) # slow right down\n",
    "    \n",
    "    if (steeringAngle > 90) and steeringAngle > 90:\n",
    "        L = leftDriveSpeed\n",
    "        R = rightDriveSpeed - 2*mapf(abs(steeringAngle), 0,180, 0,driveSpeed) # slow right down\n",
    "        \n",
    "\n",
    "    L_R_velocity = [L, R,mapf(abs(steeringAngle), 0,180, 0,driveSpeed)]\n",
    "    return L_R_velocity"
   ]
  }
 ],
 "metadata": {
  "kernelspec": {
   "display_name": "Python 3 (ipykernel)",
   "language": "python",
   "name": "python3"
  },
  "language_info": {
   "codemirror_mode": {
    "name": "ipython",
    "version": 3
   },
   "file_extension": ".py",
   "mimetype": "text/x-python",
   "name": "python",
   "nbconvert_exporter": "python",
   "pygments_lexer": "ipython3",
   "version": "3.9.7"
  }
 },
 "nbformat": 4,
 "nbformat_minor": 5
}

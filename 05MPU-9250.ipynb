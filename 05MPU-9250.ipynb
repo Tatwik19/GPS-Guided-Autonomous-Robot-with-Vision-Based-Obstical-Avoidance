{
 "cells": [
  {
   "cell_type": "markdown",
   "id": "civilian-punch",
   "metadata": {},
   "source": [
    "# Testing MPU 9250"
   ]
  },
  {
   "cell_type": "code",
   "execution_count": null,
   "id": "anticipated-greensboro",
   "metadata": {},
   "outputs": [],
   "source": [
    "import os\n",
    "import sys\n",
    "import time\n",
    "import smbus\n",
    "import math \n",
    "\n",
    "from imusensor.MPU9250 import MPU9250"
   ]
  },
  {
   "cell_type": "code",
   "execution_count": null,
   "id": "every-coordinator",
   "metadata": {},
   "outputs": [],
   "source": [
    "address = 0x68\n",
    "bus = smbus.SMBus(0)\n",
    "imu = MPU9250.MPU9250(bus, address)\n",
    "imu.begin()\n",
    "# print(\"Caliberation Started\")\n",
    "# imu.caliberateGyro()\n",
    "# print(\"Gyro caliberated\")\n",
    "# imu.caliberateAccelerometer()\n",
    "# print(\"ACC caliberated\")\n",
    "\n",
    "# or load your own caliberation file\n",
    "imu.loadCalibDataFromFile(\"docs/calib_real4.json\")\n",
    "# imu.caliberateMagPrecise()\n",
    "\n",
    "# imu.caliberateMagApprox()\n",
    "print(\"file loaded\")\n",
    "\n",
    "while True:\n",
    "    imu.readSensor()\n",
    "    imu.computeOrientation()\n",
    "\n",
    "    magX = imu.MagVals[0] \n",
    "    magY = imu.MagVals[1]\n",
    "    M_PI = 3.14159265358979323846264338327950288\n",
    "    \n",
    "    print (\"Accel x: {0} ; Accel y : {1} ; Accel z : {2}\".format(imu.AccelVals[0]*180/M_PI, imu.AccelVals[1]*180/M_PI, imu.AccelVals[2]*180/M_PI))\n",
    "    print (\"Gyro x: {0} ; Gyro y : {1} ; Gyro z : {2}\".format(imu.GyroVals[0], imu.GyroVals[1], imu.GyroVals[2]))\n",
    "    print (\"Mag x: {0} ; Mag y : {1} ; Mag z : {2}\".format(imu.MagVals[0], imu.MagVals[1], imu.MagVals[2]))\n",
    "    print (\"roll: {0} ; pitch : {1} ; yaw : {2}\".format(imu.roll, imu.pitch, imu.yaw),'\\n')\n",
    "        \n",
    "\n",
    "    time.sleep(2)\n",
    "# -81.35807786223036 \n"
   ]
  },
  {
   "cell_type": "code",
   "execution_count": null,
   "id": "civic-symphony",
   "metadata": {},
   "outputs": [],
   "source": [
    "from jetbot import Robot\n",
    "import time\n",
    "import PIL\n",
    "\n",
    "# robot.stop() stops the robot\n",
    "# robot.left(speed=0.25) moves the robot at speed of 0.25\n",
    "# robot.right(0.25)\n",
    "# robot.forward(0.3)\n",
    "# robot.backward(0.3)\n",
    "\n",
    "# time.sleep() delay in sec\n",
    "\n",
    "# robot.set_motors(0.2, 0.4) controling left and right motors individully\n",
    "# robot.left_motor.value = 0.2\n",
    "# robot.right_motor.value = 0.4\n",
    "\n",
    "\n",
    "robot = Robot()\n",
    "\n",
    "def R_right():\n",
    "    robot.right(0.18)\n",
    "    time.sleep(0.1)\n",
    "    robot.stop()\n",
    "    \n",
    "def R_left():\n",
    "    robot.left(0.18)\n",
    "    time.sleep(0.1)\n",
    "    robot.stop()\n",
    "    \n",
    "def mov_r_revolve(val,delay=0.5):\n",
    "    robot.set_motors(val, -val)\n",
    "    time.sleep(delay)\n",
    "    robot.stop()\n",
    "    print('Revolving Robot right..')\n",
    "\n",
    "def mov_l_revolve(val,delay=0.5):\n",
    "    robot.set_motors(-val, val)\n",
    "    time.sleep(delay)\n",
    "    robot.stop()\n",
    "    print('Revolving Robot left..')\n",
    "    "
   ]
  }
 ],
 "metadata": {
  "kernelspec": {
   "display_name": "Python 3 (ipykernel)",
   "language": "python",
   "name": "python3"
  },
  "language_info": {
   "codemirror_mode": {
    "name": "ipython",
    "version": 3
   },
   "file_extension": ".py",
   "mimetype": "text/x-python",
   "name": "python",
   "nbconvert_exporter": "python",
   "pygments_lexer": "ipython3",
   "version": "3.9.7"
  }
 },
 "nbformat": 4,
 "nbformat_minor": 5
}

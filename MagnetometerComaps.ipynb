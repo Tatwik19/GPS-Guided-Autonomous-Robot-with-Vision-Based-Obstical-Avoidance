{
 "cells": [
  {
   "cell_type": "markdown",
   "id": "cca33da1",
   "metadata": {},
   "source": [
    "# MPU 9250 Magnetometer\n",
    "\n",
    "Magnetometer as a compas to find geographical north for navigation"
   ]
  },
  {
   "cell_type": "code",
   "execution_count": null,
   "id": "9a8a5924",
   "metadata": {},
   "outputs": [],
   "source": [
    "import smbus\n",
    "import math\n",
    "import numpy as np\n",
    "import time\n",
    "\n",
    "from imusensor.MPU9250 import MPU9250\n",
    "\n",
    "# IMU Address\n",
    "address = 0x68\n",
    "bus = smbus.SMBus(0)\n",
    "imu = MPU9250.MPU9250(bus, address)\n",
    "imu.begin()\n",
    "imu.loadCalibDataFromFile(\"docs/calib_real4.json\")\n",
    "\n",
    "def currentHeading(): #Get current Headding/Facing direction from Magnetometer (0 to 360 deg)\n",
    "    \n",
    "    imu.readSensor()\n",
    "    imu.computeOrientation()\n",
    "    \n",
    "        \n",
    "    magX = imu.MagVals[0] \n",
    "    magY = imu.MagVals[1]\n",
    "    M_PI = math.pi\n",
    "    offSet = 30 # Correction Angle\n",
    "    \n",
    "    if (magY > 0):\n",
    "        heading = 90 - math.atan(magX/magY)*(180/M_PI)\n",
    "        \n",
    "    elif (magY < 0):\n",
    "        heading = 270 - math.atan(magX/magY)*(180/M_PI)\n",
    "        \n",
    "    elif (magY == 0 and magX < 0):\n",
    "        heading = 180\n",
    "        \n",
    "    elif (magY == 0 and magX > 0): \n",
    "        heading = 0\n",
    "        \n",
    "    heading = -heading + offSet\n",
    "    if heading > 360:\n",
    "        heading = heading - 360;\n",
    "    elif heading < 0:\n",
    "        heading = heading + 360;\n",
    "        \n",
    "    return heading"
   ]
  },
  {
   "cell_type": "code",
   "execution_count": null,
   "id": "804a85f2",
   "metadata": {},
   "outputs": [],
   "source": [
    "try:\n",
    "    while True:\n",
    "        \n",
    "        imu.readSensor() # Read IMU Sensor\n",
    "        imu.computeOrientation()\n",
    "        \n",
    "        compas = currentHeading()\n",
    "        \n",
    "        print(currentHeading(),\"Degrees\")\n",
    "        \n",
    "#         Yaw = math.atan((math.cos(imu.AccelVals[1])*((imu.MagVals[2]*math.sin(imu.AccelVals[0]))-(imu.MagVals[1]*math.cos(imu.AccelVals[0]))))/(imu.MagVals[0]))\n",
    "#         YawD = Yaw*180/M_PI\n",
    "#         print(YawD)\n",
    "#         print((math.atan(magY/magX))*(180/M_PI),'\\n')\n",
    "\n",
    "        time.sleep(2)\n",
    "        \n",
    "except KeyboardInterrupt:\n",
    "    sys.exit(0)"
   ]
  }
 ],
 "metadata": {
  "kernelspec": {
   "display_name": "Python 3 (ipykernel)",
   "language": "python",
   "name": "python3"
  },
  "language_info": {
   "codemirror_mode": {
    "name": "ipython",
    "version": 3
   },
   "file_extension": ".py",
   "mimetype": "text/x-python",
   "name": "python",
   "nbconvert_exporter": "python",
   "pygments_lexer": "ipython3",
   "version": "3.9.7"
  }
 },
 "nbformat": 4,
 "nbformat_minor": 5
}
